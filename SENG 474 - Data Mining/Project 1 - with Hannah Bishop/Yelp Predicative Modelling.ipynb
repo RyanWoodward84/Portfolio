{
 "cells": [
  {
   "cell_type": "code",
   "execution_count": 1,
   "metadata": {},
   "outputs": [],
   "source": [
    "#This section will deal with importing the data from the .json files and processing it into pandas dataframes"
   ]
  },
  {
   "cell_type": "code",
   "execution_count": 2,
   "metadata": {},
   "outputs": [
    {
     "name": "stdout",
     "output_type": "stream",
     "text": [
      "                  business_id                 user_id  stars  \\\n",
      "0      -MhfebM0QIsKt87iDN-FNw  OwjRMXRC0KyPrIlcjaXeFQ    2.0   \n",
      "1      lbrU8StCq3yDfr-QMnGrmQ  nIJD_7ZXHq-FX8byPMOkMQ    1.0   \n",
      "2      HQl28KMwrEKHqhFrrDqVNQ  V34qejxNsCbcgD8C0HVk-Q    5.0   \n",
      "3      5JxlZaqCnk1MnbgRirs40Q  ofKDkJKXSKZXu5xJNGiiBQ    1.0   \n",
      "4      IS4cv902ykd8wj1TR0N3-A  UgMW8bLE0QMJDCkQ1Ax5Mg    4.0   \n",
      "...                       ...                     ...    ...   \n",
      "49995  i6gKYG_YFuF5o90jPuWYvw  -SXbI1mQSFHkUK8MJtwQNw    2.0   \n",
      "49996  V2oe1HVgNK0He9Mf3Q17AA  JEDRhFdrscbsWierJA0-jQ    3.0   \n",
      "49997  EcRL1BpBvvQ5LnzgtFr8Gw  Q5oEbIyoZsIoQCras9CNvA    5.0   \n",
      "49998  4m_hApwQ054v3ue_OxFmGw  i_6lhTVqIRsZvggvZp7lng    3.0   \n",
      "49999  HxSINQAplSFAn6of-wexcA  DnW5KhpV4ss_yqtIS78yUQ    1.0   \n",
      "\n",
      "                                                    text  \n",
      "0      As someone who has worked with many museums, I...  \n",
      "1      I am actually horrified this place is still in...  \n",
      "2      I love Deagan's. I do. I really do. The atmosp...  \n",
      "3      Dismal, lukewarm, defrosted-tasting \"TexMex\" g...  \n",
      "4      Oh happy day, finally have a Canes near my cas...  \n",
      "...                                                  ...  \n",
      "49995  There was this cashier that's shit rude, and e...  \n",
      "49996  I love pierogi's. We showed up got a table and...  \n",
      "49997  An impromptu Sunday night dinner invite from m...  \n",
      "49998  I'd give this 3.5 stars if I could.\\n\\nThe spa...  \n",
      "49999  I have visited this restaurant many times and ...  \n",
      "\n",
      "[50000 rows x 4 columns]\n",
      "                  business_id                       name             city  \\\n",
      "0      f9NumwFMBDn751xgFiRbNA   The Range At Lake Norman        Cornelius   \n",
      "1      Yzvjg0SayhoZgCljUJRF9Q          Carlos Santo, NMD       Scottsdale   \n",
      "2      XNoUzKckATkOD1hP6vghZg                    Felinus         Montreal   \n",
      "3      6OAZjbxqM5ol29BuHsil3w       Nevada House of Hose  North Las Vegas   \n",
      "4      51M2Kk903DFYI6gnB5I6SQ    USE MY GUY SERVICES LLC             Mesa   \n",
      "...                       ...                        ...              ...   \n",
      "49995  rIDqNdJyXLNyrc07AhuQzg                 Party City          Toronto   \n",
      "49996  0Nb4piKDUVbedlrakwEUuw                   Del Taco        Las Vegas   \n",
      "49997  IeWhoGK5WfjlVWcRRHoDwQ     Landau Costume Jeweler        Las Vegas   \n",
      "49998  5nfeycwKUJKpb40JWlA9jw  Josie's Sweets and Treats       Pittsburgh   \n",
      "49999  UMa-6QgbcQm6IHxPGuygVw   Miranda Delivery Service          Phoenix   \n",
      "\n",
      "      state  stars                                         categories  \\\n",
      "0        NC    3.5  Active Life, Gun/Rifle Ranges, Guns & Ammo, Sh...   \n",
      "1        AZ    5.0  Health & Medical, Fitness & Instruction, Yoga,...   \n",
      "2        QC    5.0                   Pets, Pet Services, Pet Groomers   \n",
      "3        NV    2.5  Hardware Stores, Home Services, Building Suppl...   \n",
      "4        AZ    4.5  Home Services, Plumbing, Electricians, Handyma...   \n",
      "...     ...    ...                                                ...   \n",
      "49995    ON    2.5          Party Supplies, Event Planning & Services   \n",
      "49996    NV    2.5                             Fast Food, Restaurants   \n",
      "49997    NV    1.0                                  Jewelry, Shopping   \n",
      "49998    PA    4.5  Food, Bakeries, Vegan, Gluten-Free, Restaurant...   \n",
      "49999    AZ    3.5  Movers, Local Services, Home Services, Courier...   \n",
      "\n",
      "       review_count  \n",
      "0                36  \n",
      "1                 4  \n",
      "2                 5  \n",
      "3                 3  \n",
      "4                26  \n",
      "...             ...  \n",
      "49995             3  \n",
      "49996            58  \n",
      "49997             3  \n",
      "49998            13  \n",
      "49999            20  \n",
      "\n",
      "[50000 rows x 7 columns]\n",
      "                      user_id  review_count\n",
      "0      ntlvfPzc8eglqvk92iDIAw           553\n",
      "1      FOBRPlBHa3WPHFB5qYDlVg           564\n",
      "2      zZUnPeh2hEp0WydbAZEOOg            60\n",
      "3      QaELAmRcDc5TfJEylaaP8g           206\n",
      "4      xvu8G900tezTzbbfqmTKvA           485\n",
      "...                       ...           ...\n",
      "49995  e3xACIcIAUqLrkQql_TWCA            12\n",
      "49996  zv8VFuYqSFKmcvv7KKxNFA            39\n",
      "49997  bv3zMM7wBiN-1JwmYPf35A             7\n",
      "49998  N3YS4t0RSve4SeO_89Iurg            66\n",
      "49999  jywl16p5BoesA_qePOLfAA             4\n",
      "\n",
      "[50000 rows x 2 columns]\n"
     ]
    }
   ],
   "source": [
    "import json\n",
    "import pandas as pd\n",
    "import matplotlib.pyplot as plt\n",
    "import seaborn as sns\n",
    "import sklearn\n",
    "from sklearn.naive_bayes import MultinomialNB\n",
    "import string\n",
    "\n",
    "# open input file: \n",
    "reviewFile = open('review.json', encoding=\"utf8\")\n",
    "businessFile = open('business.json', encoding=\"utf8\")\n",
    "userFile = open('user.json', encoding=\"utf8\")\n",
    "\n",
    "# read the first 1 million entries\n",
    "# set to -1 to process everything\n",
    "stop = 50000\n",
    "\n",
    "allDataReview= list()\n",
    "for i, line in enumerate(reviewFile):\n",
    "    if i==stop:\n",
    "        break    \n",
    "    # converting the json into a dictionary\n",
    "    data = json.loads(line)\n",
    "    # extraction of the data we want\n",
    "    business_id = data['business_id']\n",
    "    user_id = data['user_id']\n",
    "    text = data['text']\n",
    "    stars = data['stars']\n",
    "    # adding data that we've collected\n",
    "    allDataReview.append([business_id, user_id, stars, text])\n",
    "\n",
    "allBusinessReview = list()\n",
    "for i, line in enumerate(businessFile):\n",
    "    if i==stop:\n",
    "        break\n",
    "    \n",
    "    data = json.loads(line)\n",
    "    \n",
    "    business_id = data['business_id']\n",
    "    name = data['name']\n",
    "    city = data['city']\n",
    "    state = data['state']\n",
    "    stars = data['stars']\n",
    "    categories = data['categories']   \n",
    "    review_count = data['review_count']\n",
    "\n",
    "    allBusinessReview.append([business_id, name, city, state, stars, categories, review_count])\n",
    "    \n",
    "allUserReview = list()\n",
    "for i, line in enumerate(userFile):\n",
    "    if i==stop:\n",
    "        break\n",
    "    \n",
    "    data = json.loads(line)\n",
    "    \n",
    "    user_id = data['user_id']\n",
    "    review_count = data['review_count']\n",
    "    \n",
    "    allUserReview.append([user_id, review_count])\n",
    "    \n",
    "# create the DataFrame\n",
    "dfReview = pd.DataFrame(allDataReview, columns=['business_id', 'user_id', 'stars','text'])\n",
    "dfBusiness = pd.DataFrame(allBusinessReview, columns=['business_id','name', 'city', 'state', 'stars', 'categories','review_count'])\n",
    "dfUser = pd.DataFrame(allUserReview, columns=['user_id', 'review_count'])\n",
    "print(dfReview)\n",
    "print(dfBusiness)\n",
    "print(dfUser)\n",
    "\n",
    "\n",
    "reviewFile.close()\n",
    "businessFile.close()\n",
    "userFile.close()"
   ]
  },
  {
   "cell_type": "code",
   "execution_count": 3,
   "metadata": {},
   "outputs": [
    {
     "name": "stderr",
     "output_type": "stream",
     "text": [
      "[nltk_data] Downloading package stopwords to\n",
      "[nltk_data]     C:\\Users\\ryanw\\AppData\\Roaming\\nltk_data...\n",
      "[nltk_data]   Package stopwords is already up-to-date!\n"
     ]
    }
   ],
   "source": [
    "#Removing the stopwords from the text reviews\n",
    "\n",
    "import nltk\n",
    "nltk.download('stopwords')\n",
    "from nltk.corpus import stopwords, wordnet\n",
    "from nltk.stem.wordnet import WordNetLemmatizer\n",
    "stop = stopwords.words('english')\n",
    "\n",
    "#first removing punctuation and other characters and making the entire text review lower case\n",
    "#dfReview['text'] = dfReview.text.str.replace(\"[^\\w\\s]\", \"\")\n",
    "#dfReview['text'] = dfReview.text.apply(lambda x: x.lower())\n",
    "#dfReview['text'] = dfReview.text.str.replace(\"‰Ûª\", \"''\")\n",
    "\n",
    "#dfReview['text'] = dfReview['text'].apply(lambda x: ' '.join([item for item in x.split() if item not in stop]))\n",
    "\n",
    "\n"
   ]
  },
  {
   "cell_type": "code",
   "execution_count": 4,
   "metadata": {},
   "outputs": [
    {
     "name": "stdout",
     "output_type": "stream",
     "text": [
      "                  business_id                 user_id  stars  \\\n",
      "0      -MhfebM0QIsKt87iDN-FNw  OwjRMXRC0KyPrIlcjaXeFQ    2.0   \n",
      "1      lbrU8StCq3yDfr-QMnGrmQ  nIJD_7ZXHq-FX8byPMOkMQ    1.0   \n",
      "2      HQl28KMwrEKHqhFrrDqVNQ  V34qejxNsCbcgD8C0HVk-Q    5.0   \n",
      "3      5JxlZaqCnk1MnbgRirs40Q  ofKDkJKXSKZXu5xJNGiiBQ    1.0   \n",
      "4      IS4cv902ykd8wj1TR0N3-A  UgMW8bLE0QMJDCkQ1Ax5Mg    4.0   \n",
      "...                       ...                     ...    ...   \n",
      "49995  i6gKYG_YFuF5o90jPuWYvw  -SXbI1mQSFHkUK8MJtwQNw    2.0   \n",
      "49996  V2oe1HVgNK0He9Mf3Q17AA  JEDRhFdrscbsWierJA0-jQ    3.0   \n",
      "49997  EcRL1BpBvvQ5LnzgtFr8Gw  Q5oEbIyoZsIoQCras9CNvA    5.0   \n",
      "49998  4m_hApwQ054v3ue_OxFmGw  i_6lhTVqIRsZvggvZp7lng    3.0   \n",
      "49999  HxSINQAplSFAn6of-wexcA  DnW5KhpV4ss_yqtIS78yUQ    1.0   \n",
      "\n",
      "                                                    text  \n",
      "0      As someone who has worked with many museums, I...  \n",
      "1      I am actually horrified this place is still in...  \n",
      "2      I love Deagan's. I do. I really do. The atmosp...  \n",
      "3      Dismal, lukewarm, defrosted-tasting \"TexMex\" g...  \n",
      "4      Oh happy day, finally have a Canes near my cas...  \n",
      "...                                                  ...  \n",
      "49995  There was this cashier that's shit rude, and e...  \n",
      "49996  I love pierogi's. We showed up got a table and...  \n",
      "49997  An impromptu Sunday night dinner invite from m...  \n",
      "49998  I'd give this 3.5 stars if I could.\\n\\nThe spa...  \n",
      "49999  I have visited this restaurant many times and ...  \n",
      "\n",
      "[50000 rows x 4 columns]\n"
     ]
    }
   ],
   "source": [
    "#Successfully removed all the stop words from the text rows\n",
    "\n",
    "print(dfReview)"
   ]
  },
  {
   "cell_type": "code",
   "execution_count": 5,
   "metadata": {},
   "outputs": [],
   "source": [
    "#Running some visualizations to make sense of the data"
   ]
  },
  {
   "cell_type": "code",
   "execution_count": 6,
   "metadata": {},
   "outputs": [
    {
     "data": {
      "image/png": "[encoded data removed]",
      "text/plain": [
       "<Figure size 360x360 with 6 Axes>"
      ]
     },
     "metadata": {
      "needs_background": "light"
     },
     "output_type": "display_data"
    },
    {
     "data": {
      "image/png": "[encoded data removed]",
      "text/plain": [
       "<Figure size 432x288 with 1 Axes>"
      ]
     },
     "metadata": {
      "needs_background": "light"
     },
     "output_type": "display_data"
    },
    {
     "data": {
      "image/png": "[encoded data removed]",
      "text/plain": [
       "<Figure size 432x288 with 1 Axes>"
      ]
     },
     "metadata": {
      "needs_background": "light"
     },
     "output_type": "display_data"
    }
   ],
   "source": [
    "stars = dfBusiness.groupby('stars').mean()\n",
    "stars.corr()\n",
    "\n",
    "numeric_features = dfBusiness.loc[:, ['review_count', 'stars']]\n",
    "numeric_features_standardized = (numeric_features)/numeric_features.max()\n",
    "ax = sns.pairplot(numeric_features_standardized)\n",
    "plt.show()\n",
    "\n",
    "ax = sns.distplot(dfBusiness['stars'])\n",
    "plt.show()\n",
    "ax = sns.distplot(dfBusiness['review_count'])\n",
    "plt.show()"
   ]
  },
  {
   "cell_type": "code",
   "execution_count": 7,
   "metadata": {},
   "outputs": [],
   "source": [
    "#Some of the features I noticed was that the majority of businesses were getting 4 star reviews. Does the amount of reviews that a business gets affect it's overall score?"
   ]
  },
  {
   "cell_type": "code",
   "execution_count": 8,
   "metadata": {},
   "outputs": [
    {
     "name": "stdout",
     "output_type": "stream",
     "text": [
      "<class 'pandas.core.frame.DataFrame'>\n",
      "RangeIndex: 50000 entries, 0 to 49999\n",
      "Data columns (total 7 columns):\n",
      "business_id     50000 non-null object\n",
      "name            50000 non-null object\n",
      "city            50000 non-null object\n",
      "state           50000 non-null object\n",
      "stars           50000 non-null float64\n",
      "categories      49862 non-null object\n",
      "review_count    50000 non-null int64\n",
      "dtypes: float64(1), int64(1), object(5)\n",
      "memory usage: 1.7+ MB\n"
     ]
    }
   ],
   "source": [
    "dfBusiness.info()"
   ]
  },
  {
   "cell_type": "code",
   "execution_count": 9,
   "metadata": {},
   "outputs": [
    {
     "name": "stdout",
     "output_type": "stream",
     "text": [
      "<class 'pandas.core.frame.DataFrame'>\n",
      "RangeIndex: 50000 entries, 0 to 49999\n",
      "Data columns (total 7 columns):\n",
      "business_id     50000 non-null object\n",
      "name            50000 non-null object\n",
      "city            50000 non-null object\n",
      "state           50000 non-null object\n",
      "stars           50000 non-null float64\n",
      "categories      49862 non-null object\n",
      "review_count    50000 non-null int64\n",
      "dtypes: float64(1), int64(1), object(5)\n",
      "memory usage: 1.7+ MB\n",
      "<class 'pandas.core.frame.DataFrame'>\n",
      "RangeIndex: 50000 entries, 0 to 49999\n",
      "Data columns (total 4 columns):\n",
      "business_id    50000 non-null object\n",
      "user_id        50000 non-null object\n",
      "stars          50000 non-null float64\n",
      "text           50000 non-null object\n",
      "dtypes: float64(1), object(3)\n",
      "memory usage: 976.6+ KB\n"
     ]
    }
   ],
   "source": [
    "dfBusiness.info()\n",
    "dfReview.info()"
   ]
  },
  {
   "cell_type": "code",
   "execution_count": 10,
   "metadata": {
    "scrolled": true
   },
   "outputs": [
    {
     "data": {
      "text/plain": [
       "<seaborn.axisgrid.FacetGrid at 0x212d43f0>"
      ]
     },
     "execution_count": 10,
     "metadata": {},
     "output_type": "execute_result"
    },
    {
     "data": {
      "image/png": "[encoded data removed]",
      "text/plain": [
       "<Figure size 1080x216 with 5 Axes>"
      ]
     },
     "metadata": {
      "needs_background": "light"
     },
     "output_type": "display_data"
    }
   ],
   "source": [
    "dfReview['text length'] = dfReview['text'].apply(len)\n",
    "g = sns.FacetGrid(data=dfReview, col='stars')\n",
    "g.map(plt.hist, 'text length', bins=50)"
   ]
  },
  {
   "cell_type": "code",
   "execution_count": 11,
   "metadata": {},
   "outputs": [],
   "source": [
    "#The above graphs tell us that the longer the review is, the more likely that the review is going to be 5 stars"
   ]
  },
  {
   "cell_type": "code",
   "execution_count": 12,
   "metadata": {},
   "outputs": [],
   "source": [
    "#Need to do more pre processing on the dataframes\n",
    "dfBusiness = dfBusiness.dropna()\n",
    "dfBusiness['review_count']=dfBusiness['review_count'].fillna(0)\n",
    "dfBusiness['stars']=dfBusiness['stars'].fillna(0)"
   ]
  },
  {
   "cell_type": "code",
   "execution_count": 13,
   "metadata": {},
   "outputs": [
    {
     "name": "stdout",
     "output_type": "stream",
     "text": [
      "<class 'pandas.core.frame.DataFrame'>\n",
      "Int64Index: 49991 entries, 0 to 49990\n",
      "Data columns (total 11 columns):\n",
      "business_id     49991 non-null object\n",
      "name            49991 non-null object\n",
      "city            49991 non-null object\n",
      "state           49991 non-null object\n",
      "stars_bus       49991 non-null float64\n",
      "categories      49991 non-null object\n",
      "review_count    49991 non-null int64\n",
      "user_id         49991 non-null object\n",
      "stars_user      49991 non-null float64\n",
      "text            49991 non-null object\n",
      "text length     49991 non-null int64\n",
      "dtypes: float64(2), int64(2), object(7)\n",
      "memory usage: 3.2+ MB\n"
     ]
    }
   ],
   "source": [
    "dfRev_Bus = dfBusiness.merge(dfReview, on=('business_id'), suffixes=('_bus', '_user'))\n",
    "dfRev_Bus.info()"
   ]
  },
  {
   "cell_type": "code",
   "execution_count": 14,
   "metadata": {},
   "outputs": [],
   "source": [
    "#Now going to run multinomial to predict class based on text"
   ]
  },
  {
   "cell_type": "code",
   "execution_count": 15,
   "metadata": {},
   "outputs": [
    {
     "name": "stdout",
     "output_type": "stream",
     "text": [
      "<class 'pandas.core.frame.DataFrame'>\n",
      "Int64Index: 49991 entries, 0 to 49990\n",
      "Data columns (total 11 columns):\n",
      "business_id     49991 non-null object\n",
      "name            49991 non-null object\n",
      "city            49991 non-null object\n",
      "state           49991 non-null object\n",
      "stars_bus       49991 non-null float64\n",
      "categories      49991 non-null object\n",
      "review_count    49991 non-null int64\n",
      "user_id         49991 non-null object\n",
      "stars_user      49991 non-null float64\n",
      "text            49991 non-null object\n",
      "text length     49991 non-null int64\n",
      "dtypes: float64(2), int64(2), object(7)\n",
      "memory usage: 3.2+ MB\n"
     ]
    }
   ],
   "source": [
    "#First we need to round the stars as the classifier doesn't handle floats very well\n",
    "dfReview.stars = dfReview.stars.round()\n",
    "\n",
    "#Determing the amount of each of the counts\n",
    "dfRev_Bus[\"stars_bus\"].value_counts()\n",
    "dfRev_Bus[\"stars_user\"].value_counts()\n",
    "\n",
    "#Need to process the \n",
    "dfRev_Bus['review_count']=dfRev_Bus['review_count'].fillna(0)\n",
    "\n",
    "dfRev_Bus.info()"
   ]
  },
  {
   "cell_type": "code",
   "execution_count": 16,
   "metadata": {},
   "outputs": [
    {
     "name": "stdout",
     "output_type": "stream",
     "text": [
      "                  business_id                      name             city  \\\n",
      "0      f9NumwFMBDn751xgFiRbNA  The Range At Lake Norman        Cornelius   \n",
      "1      6OAZjbxqM5ol29BuHsil3w      Nevada House of Hose  North Las Vegas   \n",
      "2      51M2Kk903DFYI6gnB5I6SQ   USE MY GUY SERVICES LLC             Mesa   \n",
      "3      51M2Kk903DFYI6gnB5I6SQ   USE MY GUY SERVICES LLC             Mesa   \n",
      "4      51M2Kk903DFYI6gnB5I6SQ   USE MY GUY SERVICES LLC             Mesa   \n",
      "...                       ...                       ...              ...   \n",
      "49986  H1j34TgbrVZkxeww9xlJTw             Steve's Gyros        Cleveland   \n",
      "49987  H1j34TgbrVZkxeww9xlJTw             Steve's Gyros        Cleveland   \n",
      "49988  8R2Gm4lsS90JG9jIYHlfeg                   Mondays          Madison   \n",
      "49989  8R2Gm4lsS90JG9jIYHlfeg                   Mondays          Madison   \n",
      "49990  8R2Gm4lsS90JG9jIYHlfeg                   Mondays          Madison   \n",
      "\n",
      "      state  stars_bus                                         categories  \\\n",
      "0        NC        3.5  Active Life, Gun/Rifle Ranges, Guns & Ammo, Sh...   \n",
      "1        NV        2.5  Hardware Stores, Home Services, Building Suppl...   \n",
      "2        AZ        4.5  Home Services, Plumbing, Electricians, Handyma...   \n",
      "3        AZ        4.5  Home Services, Plumbing, Electricians, Handyma...   \n",
      "4        AZ        4.5  Home Services, Plumbing, Electricians, Handyma...   \n",
      "...     ...        ...                                                ...   \n",
      "49986    OH        4.5   Restaurants, Middle Eastern, Food, Mediterranean   \n",
      "49987    OH        4.5   Restaurants, Middle Eastern, Food, Mediterranean   \n",
      "49988    WI        2.5                         Bars, Dive Bars, Nightlife   \n",
      "49989    WI        2.5                         Bars, Dive Bars, Nightlife   \n",
      "49990    WI        2.5                         Bars, Dive Bars, Nightlife   \n",
      "\n",
      "       review_count                 user_id  stars_user  \\\n",
      "0          0.007981  xDtS2iKsJuVUVzB2YhfPsg         4.0   \n",
      "1          0.000000  t7vtTYLpFycounFcNOJ7FA         1.0   \n",
      "2          0.005562  nKBtfZ93gPYybGEz2QOvTQ         5.0   \n",
      "3          0.005562  UjVtviHTm2mgZnXCfl33CQ         5.0   \n",
      "4          0.005562  L498DJb5YDAtoqgv9thWCg         5.0   \n",
      "...             ...                     ...         ...   \n",
      "49986      0.037969  QTRxJsAEXsTIZ2p2qhOT0g         5.0   \n",
      "49987      0.037969  aC2VAMWjofxY0WEd1nmqpg         4.0   \n",
      "49988      0.007013  HLaSqQMDVvlcFPGJL_kGCA         1.0   \n",
      "49989      0.007013  cT0xyr130ZUpEcj8L7Hjxw         1.0   \n",
      "49990      0.007013  QEBS_iXJeUvZEP-tvoGAkg         5.0   \n",
      "\n",
      "                                                    text  text length  \n",
      "0      Driving more than an half-hour to get to a gun...     0.173269  \n",
      "1      Poor selection and horrible customer service w...     0.016807  \n",
      "2      UMGS does an amazing job serving the community...     0.026811  \n",
      "3      I called Connie needing some stuff done on a S...     0.107643  \n",
      "4      We are selling our home and needed our back fa...     0.059424  \n",
      "...                                                  ...          ...  \n",
      "49986  Hanging out at the west side market can't wait...     0.025210  \n",
      "49987  Visited Steve's Gyros after seeing them on the...     0.223489  \n",
      "49988  Usually the first thing I say when I walk into...     0.036815  \n",
      "49989  they make really, really strong drinks.  other...     0.017207  \n",
      "49990  I went to college in Madison, and this bar is ...     0.206283  \n",
      "\n",
      "[49991 rows x 11 columns]\n"
     ]
    }
   ],
   "source": [
    "#Making another dataframe for just the business id, the review counts, and the text\n",
    "\n",
    "\n",
    "\n",
    "dfBusRevText = ['review_count','text length']\n",
    "dfRev_Bus[dfBusRevText] = dfRev_Bus[dfBusRevText].apply(lambda x: (x - x.min()) / (x.max() - x.min()))\n",
    "\n",
    "print (dfRev_Bus)"
   ]
  },
  {
   "cell_type": "code",
   "execution_count": 17,
   "metadata": {},
   "outputs": [
    {
     "name": "stdout",
     "output_type": "stream",
     "text": [
      "                  business_id                      name  stars_bus  \\\n",
      "0      f9NumwFMBDn751xgFiRbNA  The Range At Lake Norman        3.5   \n",
      "1      6OAZjbxqM5ol29BuHsil3w      Nevada House of Hose        2.5   \n",
      "2      51M2Kk903DFYI6gnB5I6SQ   USE MY GUY SERVICES LLC        4.5   \n",
      "3      51M2Kk903DFYI6gnB5I6SQ   USE MY GUY SERVICES LLC        4.5   \n",
      "4      51M2Kk903DFYI6gnB5I6SQ   USE MY GUY SERVICES LLC        4.5   \n",
      "...                       ...                       ...        ...   \n",
      "49986  H1j34TgbrVZkxeww9xlJTw             Steve's Gyros        4.5   \n",
      "49987  H1j34TgbrVZkxeww9xlJTw             Steve's Gyros        4.5   \n",
      "49988  8R2Gm4lsS90JG9jIYHlfeg                   Mondays        2.5   \n",
      "49989  8R2Gm4lsS90JG9jIYHlfeg                   Mondays        2.5   \n",
      "49990  8R2Gm4lsS90JG9jIYHlfeg                   Mondays        2.5   \n",
      "\n",
      "                                              categories  review_count  \\\n",
      "0      Active Life, Gun/Rifle Ranges, Guns & Ammo, Sh...      0.007981   \n",
      "1      Hardware Stores, Home Services, Building Suppl...      0.000000   \n",
      "2      Home Services, Plumbing, Electricians, Handyma...      0.005562   \n",
      "3      Home Services, Plumbing, Electricians, Handyma...      0.005562   \n",
      "4      Home Services, Plumbing, Electricians, Handyma...      0.005562   \n",
      "...                                                  ...           ...   \n",
      "49986   Restaurants, Middle Eastern, Food, Mediterranean      0.037969   \n",
      "49987   Restaurants, Middle Eastern, Food, Mediterranean      0.037969   \n",
      "49988                         Bars, Dive Bars, Nightlife      0.007013   \n",
      "49989                         Bars, Dive Bars, Nightlife      0.007013   \n",
      "49990                         Bars, Dive Bars, Nightlife      0.007013   \n",
      "\n",
      "                      user_id  stars_user  \\\n",
      "0      xDtS2iKsJuVUVzB2YhfPsg         4.0   \n",
      "1      t7vtTYLpFycounFcNOJ7FA         1.0   \n",
      "2      nKBtfZ93gPYybGEz2QOvTQ         5.0   \n",
      "3      UjVtviHTm2mgZnXCfl33CQ         5.0   \n",
      "4      L498DJb5YDAtoqgv9thWCg         5.0   \n",
      "...                       ...         ...   \n",
      "49986  QTRxJsAEXsTIZ2p2qhOT0g         5.0   \n",
      "49987  aC2VAMWjofxY0WEd1nmqpg         4.0   \n",
      "49988  HLaSqQMDVvlcFPGJL_kGCA         1.0   \n",
      "49989  cT0xyr130ZUpEcj8L7Hjxw         1.0   \n",
      "49990  QEBS_iXJeUvZEP-tvoGAkg         5.0   \n",
      "\n",
      "                                                    text  text length  \n",
      "0      Driving more than an half-hour to get to a gun...     0.173269  \n",
      "1      Poor selection and horrible customer service w...     0.016807  \n",
      "2      UMGS does an amazing job serving the community...     0.026811  \n",
      "3      I called Connie needing some stuff done on a S...     0.107643  \n",
      "4      We are selling our home and needed our back fa...     0.059424  \n",
      "...                                                  ...          ...  \n",
      "49986  Hanging out at the west side market can't wait...     0.025210  \n",
      "49987  Visited Steve's Gyros after seeing them on the...     0.223489  \n",
      "49988  Usually the first thing I say when I walk into...     0.036815  \n",
      "49989  they make really, really strong drinks.  other...     0.017207  \n",
      "49990  I went to college in Madison, and this bar is ...     0.206283  \n",
      "\n",
      "[49991 rows x 9 columns]\n"
     ]
    }
   ],
   "source": [
    "dfRev_Bus = dfRev_Bus.drop(columns=\"city\")\n",
    "dfRev_Bus = dfRev_Bus.drop(columns=\"state\")\n",
    "print (dfRev_Bus)"
   ]
  },
  {
   "cell_type": "code",
   "execution_count": 18,
   "metadata": {},
   "outputs": [
    {
     "name": "stdout",
     "output_type": "stream",
     "text": [
      "<class 'pandas.core.frame.DataFrame'>\n",
      "Int64Index: 49991 entries, 0 to 49990\n",
      "Data columns (total 2 columns):\n",
      "review_count    49991 non-null float64\n",
      "text length     49991 non-null float64\n",
      "dtypes: float64(2)\n",
      "memory usage: 1.1 MB\n",
      "<class 'pandas.core.frame.DataFrame'>\n",
      "Int64Index: 49991 entries, 0 to 49990\n",
      "Data columns (total 1 columns):\n",
      "stars_bus    49991 non-null float64\n",
      "dtypes: float64(1)\n",
      "memory usage: 781.1 KB\n"
     ]
    }
   ],
   "source": [
    "#Starting to get a training data set\n",
    "X = dfRev_Bus[['review_count', 'text length']]\n",
    "y = dfRev_Bus[['stars_bus']]\n",
    "\n",
    "X.info()\n",
    "y.info()"
   ]
  },
  {
   "cell_type": "code",
   "execution_count": 19,
   "metadata": {},
   "outputs": [
    {
     "name": "stdout",
     "output_type": "stream",
     "text": [
      "       review_count  text length\n",
      "0          0.007981     0.173269\n",
      "1          0.000000     0.016807\n",
      "2          0.005562     0.026811\n",
      "3          0.005562     0.107643\n",
      "4          0.005562     0.059424\n",
      "...             ...          ...\n",
      "49986      0.037969     0.025210\n",
      "49987      0.037969     0.223489\n",
      "49988      0.007013     0.036815\n",
      "49989      0.007013     0.017207\n",
      "49990      0.007013     0.206283\n",
      "\n",
      "[49991 rows x 2 columns]\n"
     ]
    }
   ],
   "source": [
    "print(X)"
   ]
  },
  {
   "cell_type": "code",
   "execution_count": 20,
   "metadata": {},
   "outputs": [
    {
     "name": "stdout",
     "output_type": "stream",
     "text": [
      "       stars_bus\n",
      "0            3.5\n",
      "1            2.5\n",
      "2            4.5\n",
      "3            4.5\n",
      "4            4.5\n",
      "...          ...\n",
      "49986        4.5\n",
      "49987        4.5\n",
      "49988        2.5\n",
      "49989        2.5\n",
      "49990        2.5\n",
      "\n",
      "[49991 rows x 1 columns]\n"
     ]
    }
   ],
   "source": [
    "print(y)"
   ]
  },
  {
   "cell_type": "code",
   "execution_count": 21,
   "metadata": {},
   "outputs": [
    {
     "name": "stdout",
     "output_type": "stream",
     "text": [
      "       review_count  text length\n",
      "12400      0.017170     0.220688\n",
      "33930      0.064329     0.230292\n",
      "45494      0.016687     0.033613\n",
      "23704      0.007981     0.309524\n",
      "41305      0.058041     0.071429\n",
      "...             ...          ...\n",
      "43723      0.011125     0.126651\n",
      "32511      0.047158     0.232293\n",
      "5192       0.022491     0.097839\n",
      "12172      0.003628     0.227091\n",
      "33003      0.004111     0.125450\n",
      "\n",
      "[37493 rows x 2 columns]\n"
     ]
    }
   ],
   "source": [
    "from sklearn.model_selection import train_test_split\n",
    "\n",
    "# Split X and y into X_\n",
    "trainX, testX, trainY, testY = train_test_split(X, y, test_size=0.25, random_state=1)\n",
    "\n",
    "print (trainX)"
   ]
  },
  {
   "cell_type": "code",
   "execution_count": 22,
   "metadata": {},
   "outputs": [
    {
     "name": "stdout",
     "output_type": "stream",
     "text": [
      "Expected star rating for the business using linear regression 3.7108185646613827\n"
     ]
    },
    {
     "data": {
      "text/plain": [
       "0.718466299206588"
      ]
     },
     "execution_count": 22,
     "metadata": {},
     "output_type": "execute_result"
    }
   ],
   "source": [
    "from sklearn.linear_model import LinearRegression\n",
    "\n",
    "regression_model = LinearRegression()\n",
    "regression_model.fit(trainX, trainY)\n",
    "   \n",
    "intercept = regression_model.intercept_[0]\n",
    "print(\"Expected star rating for the business using linear regression {}\".format(intercept))\n",
    "\n",
    "regression_model.score(testX, testY)\n",
    "\n",
    "from sklearn.metrics import mean_squared_error\n",
    "starPredict = regression_model.predict(testX)\n",
    "regression_model_mse = mean_squared_error(starPredict, testY)\n",
    "regression_model_mse\n",
    "\n",
    "import math\n",
    "math.sqrt(regression_model_mse)"
   ]
  },
  {
   "cell_type": "code",
   "execution_count": 23,
   "metadata": {},
   "outputs": [],
   "source": [
    "from nltk.corpus import wordnet\n",
    "from collections import Counter\n",
    "def get_pos( word ):\n",
    "    w_synsets = wordnet.synsets(word)\n",
    "\n",
    "    pos_counts = Counter()\n",
    "    pos_counts[\"n\"] = len(  [ item for item in w_synsets if item.pos()==\"n\"]  )\n",
    "    pos_counts[\"v\"] = len(  [ item for item in w_synsets if item.pos()==\"v\"]  )\n",
    "    pos_counts[\"a\"] = len(  [ item for item in w_synsets if item.pos()==\"a\"]  )\n",
    "    pos_counts[\"r\"] = len(  [ item for item in w_synsets if item.pos()==\"r\"]  )\n",
    "    \n",
    "    most_common_pos_list = pos_counts.most_common(4)\n",
    "    return most_common_pos_list[0][0]"
   ]
  },
  {
   "cell_type": "code",
   "execution_count": 24,
   "metadata": {},
   "outputs": [],
   "source": [
    "# function to perform text preprocessing on the review text\n",
    "# This function was taken from https://github.com/AmiGandhi/Yelp-User-Rating-Prediction-using-NLP-and-Naive-Bayes-algorithm-and-Restaurant-Recommender/blob/master/User_Rating_Prediction_using_NLP_and_Restaurant_Recommendation%20-%20Copy.ipynb\n",
    "\n",
    "def preprocessing(text):\n",
    "    \n",
    "    # tokenize into words\n",
    "    tokens = [word for sent in nltk.sent_tokenize(text) for word in nltk.word_tokenize(sent)]\n",
    "\n",
    "    # lower capitalization\n",
    "    tokens = [word.lower() for word in tokens]\n",
    "    \n",
    "    # remove stopwords\n",
    "    stop = stopwords.words('english')\n",
    "    tokens = [token for token in tokens if token not in stop]\n",
    "    \n",
    "    # remove punctuations\n",
    "    tokens = [char for char in tokens if char not in string.punctuation]\n",
    "\n",
    "    # lemmatize\n",
    "    lmtzr = WordNetLemmatizer()\n",
    "    tokens = [lmtzr.lemmatize(x, get_pos(x)) for x in tokens]\n",
    "    #tokens = [lmtzr.lemmatize(word, pos='v') for word in tokens]\n",
    "    preprocessed_text= ' '.join(tokens)\n",
    "\n",
    "    return preprocessed_text"
   ]
  },
  {
   "cell_type": "code",
   "execution_count": 25,
   "metadata": {},
   "outputs": [],
   "source": [
    "from sklearn.feature_extraction.text import CountVectorizer\n",
    "bow_transformer = CountVectorizer(analyzer=preprocessing).fit(X)"
   ]
  },
  {
   "cell_type": "code",
   "execution_count": 26,
   "metadata": {},
   "outputs": [
    {
     "name": "stdout",
     "output_type": "stream",
     "text": [
      "drive half-hour get gun range get old happy see range open cornelius amenity would expect range modern shooter come recreational purpose find range suitable fully electronic system lane wide tight like many range also offer membership competitive range around area daily lane rat bit pricy consider location charge much however stray away touristic price weapon ammo many store sell 'll want visit price quote 200 several store could n't bite bullet come range range\n"
     ]
    }
   ],
   "source": [
    "val = dfRev_Bus['text'].values[0]\n",
    "\n",
    "print(preprocessing(val))"
   ]
  },
  {
   "cell_type": "code",
   "execution_count": 27,
   "metadata": {},
   "outputs": [],
   "source": [
    "X = dfRev_Bus['text']\n",
    "y = dfRev_Bus['stars_user']"
   ]
  },
  {
   "cell_type": "code",
   "execution_count": 28,
   "metadata": {},
   "outputs": [],
   "source": [
    "from sklearn.feature_extraction.text import CountVectorizer\n",
    "bow_transformer = CountVectorizer(analyzer=preprocessing).fit(X)"
   ]
  },
  {
   "cell_type": "code",
   "execution_count": 29,
   "metadata": {},
   "outputs": [
    {
     "data": {
      "text/plain": [
       "934"
      ]
     },
     "execution_count": 29,
     "metadata": {},
     "output_type": "execute_result"
    }
   ],
   "source": [
    "len(bow_transformer.vocabulary_)"
   ]
  },
  {
   "cell_type": "code",
   "execution_count": 30,
   "metadata": {},
   "outputs": [],
   "source": [
    "X = bow_transformer.transform(X)"
   ]
  },
  {
   "cell_type": "code",
   "execution_count": 31,
   "metadata": {},
   "outputs": [
    {
     "name": "stdout",
     "output_type": "stream",
     "text": [
      "Shape of Sparse Matrix:  (49991, 934)\n",
      "Amount of Non-Zero occurrences:  1313934\n",
      "Density: 2.8140697017111904\n"
     ]
    }
   ],
   "source": [
    "print('Shape of Sparse Matrix: ', X.shape)\n",
    "print('Amount of Non-Zero occurrences: ', X.nnz)\n",
    "\n",
    "# Percentage of non-zero values\n",
    "density = (100.0 * X.nnz / (X.shape[0] * X.shape[1]))\n",
    "print('Density: {}'.format((density)))\n",
    "\n"
   ]
  },
  {
   "cell_type": "code",
   "execution_count": 32,
   "metadata": {},
   "outputs": [
    {
     "name": "stdout",
     "output_type": "stream",
     "text": [
      "Number transactions X_train dataset:  (34993, 934)\n",
      "Number transactions y_train dataset:  (34993,)\n",
      "Number transactions X_test dataset:  (14998, 934)\n",
      "Number transactions y_test dataset:  (14998,)\n"
     ]
    }
   ],
   "source": [
    "from imblearn.over_sampling import SMOTE\n",
    "from sklearn.model_selection import train_test_split\n",
    "\n",
    "X_train, X_test, y_train, y_test = train_test_split(X, y, test_size=0.3, random_state=101)\n",
    "print(\"Number transactions X_train dataset: \", X_train.shape)\n",
    "print(\"Number transactions y_train dataset: \", y_train.shape)\n",
    "print(\"Number transactions X_test dataset: \", X_test.shape)\n",
    "print(\"Number transactions y_test dataset: \", y_test.shape)\n",
    "\n"
   ]
  },
  {
   "cell_type": "code",
   "execution_count": 33,
   "metadata": {},
   "outputs": [
    {
     "data": {
      "text/plain": [
       "MultinomialNB(alpha=1.0, class_prior=None, fit_prior=True)"
      ]
     },
     "execution_count": 33,
     "metadata": {},
     "output_type": "execute_result"
    }
   ],
   "source": [
    "# Let us now train our model using Multinomial Naive Bayes Algorithm\n",
    "from sklearn.naive_bayes import MultinomialNB\n",
    "\n",
    "nb = MultinomialNB()\n",
    "nb.fit(X_train, y_train)"
   ]
  },
  {
   "cell_type": "code",
   "execution_count": 34,
   "metadata": {},
   "outputs": [],
   "source": [
    "# Predict on the test set\n",
    "preds = nb.predict(X_test)"
   ]
  },
  {
   "cell_type": "code",
   "execution_count": 35,
   "metadata": {},
   "outputs": [
    {
     "name": "stdout",
     "output_type": "stream",
     "text": [
      "[[ 863   66   37   76 1057]\n",
      " [ 346   47   43   82  717]\n",
      " [ 314   59   74  165 1056]\n",
      " [ 402   71  115  334 2544]\n",
      " [ 603   73   72  262 5520]]\n",
      "\n",
      "\n",
      "              precision    recall  f1-score   support\n",
      "\n",
      "         1.0       0.34      0.41      0.37      2099\n",
      "         2.0       0.15      0.04      0.06      1235\n",
      "         3.0       0.22      0.04      0.07      1668\n",
      "         4.0       0.36      0.10      0.15      3466\n",
      "         5.0       0.51      0.85      0.63      6530\n",
      "\n",
      "    accuracy                           0.46     14998\n",
      "   macro avg       0.32      0.29      0.26     14998\n",
      "weighted avg       0.39      0.46      0.38     14998\n",
      "\n",
      "0.4559274569942659\n"
     ]
    }
   ],
   "source": [
    "# Performance evaluation by confusion matrix and classification report\n",
    "import sklearn.metrics as metrics\n",
    "from sklearn.metrics import confusion_matrix, classification_report\n",
    "\n",
    "print(confusion_matrix(y_test, preds))\n",
    "print('\\n')\n",
    "print(classification_report(y_test, preds))\n",
    "print(metrics.accuracy_score(y_test, preds))"
   ]
  },
  {
   "cell_type": "code",
   "execution_count": 36,
   "metadata": {},
   "outputs": [
    {
     "name": "stdout",
     "output_type": "stream",
     "text": [
      "              business_id                  name  stars_bus  \\\n",
      "0  oiAlXZPIFm2nBCt0DHLu_Q  Green World Cleaners        3.5   \n",
      "\n",
      "                                          categories  review_count  \\\n",
      "0  Dry Cleaning & Laundry, Local Services, Laundr...      0.018863   \n",
      "\n",
      "                  user_id  stars_user  \\\n",
      "0  45R6BBybzwDuJaL08d1myQ         5.0   \n",
      "\n",
      "                                                text  text length  Predicted  \n",
      "0  I have been going to this dry cleaning since I...     0.108243        1.0  \n"
     ]
    }
   ],
   "source": [
    "#review_verdict_transformed = bow_transformer.transform([review_verdict])\n",
    "#predicted_rating = nb.predict(review_verdict_transformed)[0]\n",
    "#check_df = pd.DataFrame(columns=dfRev_Bus.columns)\n",
    "#check_df.loc[0] = dfRev_Bus.iloc[10]\n",
    "#check_df['Predicted'] = predicted_rating\n",
    "\n",
    "\n",
    "review_verdict = dfRev_Bus['text'][10]\n",
    "review_verdict_transformed = bow_transformer.transform([review_verdict])\n",
    "predicted_rating = nb.predict(review_verdict_transformed)[0]\n",
    "check_df = pd.DataFrame(columns=dfRev_Bus.columns)\n",
    "check_df.loc[0] = dfRev_Bus.iloc[10]\n",
    "check_df['Predicted'] = predicted_rating\n",
    "\n",
    "print (check_df)"
   ]
  },
  {
   "cell_type": "code",
   "execution_count": 37,
   "metadata": {},
   "outputs": [
    {
     "name": "stdout",
     "output_type": "stream",
     "text": [
      "              business_id          name  stars_bus  \\\n",
      "0  AtD6B83S4Mbmq0t7iDnUVA  Veggie House        4.5   \n",
      "\n",
      "                                          categories  review_count  \\\n",
      "0  Restaurants, Specialty Food, Japanese, Sushi B...      0.275453   \n",
      "\n",
      "                  user_id  stars_user  \\\n",
      "0  EjfvH4HFPOfRW1ETl69FEA         5.0   \n",
      "\n",
      "                                                text  text length  Predicted  \n",
      "0  Best vegan restaurant in Las Vegas! Come here ...     0.019008        5.0  \n"
     ]
    }
   ],
   "source": [
    "review_verdict_transformed = bow_transformer.transform([review_verdict])\n",
    "predicted_rating = nb.predict(review_verdict_transformed)[0]\n",
    "check_df = pd.DataFrame(columns=dfRev_Bus.columns)\n",
    "check_df.loc[0] = dfRev_Bus.iloc[441]\n",
    "check_df['Predicted'] = predicted_rating\n",
    "\n",
    "\n",
    "review_verdict = dfRev_Bus['text'][441]\n",
    "review_verdict_transformed = bow_transformer.transform([review_verdict])\n",
    "predicted_rating = nb.predict(review_verdict_transformed)[0]\n",
    "check_df = pd.DataFrame(columns=dfRev_Bus.columns)\n",
    "check_df.loc[0] = dfRev_Bus.iloc[441]\n",
    "check_df['Predicted'] = predicted_rating\n",
    "\n",
    "print (check_df)"
   ]
  },
  {
   "cell_type": "code",
   "execution_count": 38,
   "metadata": {},
   "outputs": [
    {
     "name": "stdout",
     "output_type": "stream",
     "text": [
      "Accuracy: 0.4719962661688225\n"
     ]
    },
    {
     "name": "stderr",
     "output_type": "stream",
     "text": [
      "c:\\users\\ryanw\\appdata\\local\\programs\\python\\python37-32\\lib\\site-packages\\sklearn\\linear_model\\_logistic.py:939: ConvergenceWarning: lbfgs failed to converge (status=1):\n",
      "STOP: TOTAL NO. of ITERATIONS REACHED LIMIT.\n",
      "\n",
      "Increase the number of iterations (max_iter) or scale the data as shown in:\n",
      "    https://scikit-learn.org/stable/modules/preprocessing.html.\n",
      "Please also refer to the documentation for alternative solver options:\n",
      "    https://scikit-learn.org/stable/modules/linear_model.html#logistic-regression\n",
      "  extra_warning_msg=_LOGISTIC_SOLVER_CONVERGENCE_MSG)\n"
     ]
    }
   ],
   "source": [
    "from sklearn.linear_model import LogisticRegression\n",
    "model = LogisticRegression(C=0.2, dual=False)\n",
    "model = model.fit(X_train, y_train)\n",
    "preds = model.predict(X_test)\n",
    "acc = (preds==y_test).mean()\n",
    "print(f'Accuracy: {acc}')"
   ]
  },
  {
   "cell_type": "code",
   "execution_count": 39,
   "metadata": {},
   "outputs": [],
   "source": [
    "import itertools\n",
    "import numpy as np\n",
    "def plot_confusion_matrix(cm, classes, normalize=False, title='Confusion matrix', cmap=plt.cm.Blues):\n",
    "    if normalize:\n",
    "        cm = cm.astype('float') / cm.sum(axis=1)[:, np.newaxis]\n",
    "\n",
    "    plt.figure(figsize=(8, 8))\n",
    "    plt.imshow(cm, interpolation='nearest', cmap=cmap)\n",
    "    plt.title(title)\n",
    "    plt.colorbar()\n",
    "    tick_marks = np.arange(len(classes))\n",
    "    plt.xticks(tick_marks, classes, rotation=45)\n",
    "    plt.yticks(tick_marks, classes)\n",
    "\n",
    "    fmt = '.2f' if normalize else 'd'\n",
    "    thresh = cm.max() / 2.\n",
    "    for i, j in itertools.product(range(cm.shape[0]), range(cm.shape[1])):\n",
    "        plt.text(j, i, format(cm[i, j], fmt),\n",
    "                 horizontalalignment=\"center\",\n",
    "                 color=\"white\" if cm[i, j] > thresh else \"black\")\n",
    "\n",
    "    plt.tight_layout()\n",
    "    plt.ylabel('True label')\n",
    "    plt.xlabel('Predicted label')"
   ]
  },
  {
   "cell_type": "code",
   "execution_count": 40,
   "metadata": {},
   "outputs": [
    {
     "data": {
      "image/png": "[encoded data removed]",
      "text/plain": [
       "<Figure size 576x576 with 2 Axes>"
      ]
     },
     "metadata": {
      "needs_background": "light"
     },
     "output_type": "display_data"
    }
   ],
   "source": [
    "plot_confusion_matrix(confusion_matrix(y_test, preds.T), classes=['1', '2','3','4','5'], title='Confusion matrix')"
   ]
  },
  {
   "cell_type": "code",
   "execution_count": null,
   "metadata": {},
   "outputs": [],
   "source": []
  }
 ],
 "metadata": {
  "kernelspec": {
   "display_name": "Python 3",
   "language": "python",
   "name": "python3"
  },
  "language_info": {
   "codemirror_mode": {
    "name": "ipython",
    "version": 3
   },
   "file_extension": ".py",
   "mimetype": "text/x-python",
   "name": "python",
   "nbconvert_exporter": "python",
   "pygments_lexer": "ipython3",
   "version": "3.7.5"
  }
 },
 "nbformat": 4,
 "nbformat_minor": 2
}
